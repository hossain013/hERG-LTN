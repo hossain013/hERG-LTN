{
 "cells": [
  {
   "cell_type": "code",
   "execution_count": null,
   "metadata": {
    "id": "dFFEK5f4CgNg"
   },
   "outputs": [],
   "source": [
    "# LTN: https://github.com/logictensornetworks/logictensornetworks/blob/master/examples/multiclass_classification/multiclass-singlelabel.ipynb\n",
    "# Common.py : https://github.com/logictensornetworks/logictensornetworks/raw/master/examples/multiclass_classification/commons.py"
   ]
  },
  {
   "cell_type": "code",
   "execution_count": 1,
   "metadata": {
    "colab": {
     "base_uri": "https://localhost:8080/"
    },
    "executionInfo": {
     "elapsed": 143687,
     "status": "ok",
     "timestamp": 1724653647408,
     "user": {
      "displayName": "Delower Hossain",
      "userId": "01553421328143772667"
     },
     "user_tz": 300
    },
    "id": "2zWfHSffC1Vt",
    "outputId": "44750144-eab7-4982-fc11-35b94fe6f680"
   },
   "outputs": [
    {
     "name": "stdout",
     "output_type": "stream",
     "text": [
      "\u001b[?25l     \u001b[90m━━━━━━━━━━━━━━━━━━━━━━━━━━━━━━━━━━━━━━━━\u001b[0m \u001b[32m0.0/142.9 kB\u001b[0m \u001b[31m?\u001b[0m eta \u001b[36m-:--:--\u001b[0m\r\u001b[2K     \u001b[91m━━━━━━━━━━━━━━━━━━━━━━━━━━━━━━━━━━━━━\u001b[0m\u001b[90m╺\u001b[0m\u001b[90m━━\u001b[0m \u001b[32m133.1/142.9 kB\u001b[0m \u001b[31m5.7 MB/s\u001b[0m eta \u001b[36m0:00:01\u001b[0m\r\u001b[2K     \u001b[90m━━━━━━━━━━━━━━━━━━━━━━━━━━━━━━━━━━━━━━━━\u001b[0m \u001b[32m142.9/142.9 kB\u001b[0m \u001b[31m3.1 MB/s\u001b[0m eta \u001b[36m0:00:00\u001b[0m\n",
      "\u001b[?25h  Preparing metadata (setup.py) ... \u001b[?25l\u001b[?25hdone\n",
      "\u001b[2K     \u001b[90m━━━━━━━━━━━━━━━━━━━━━━━━━━━━━━━━━━━━━━━━\u001b[0m \u001b[32m45.4/45.4 kB\u001b[0m \u001b[31m1.9 MB/s\u001b[0m eta \u001b[36m0:00:00\u001b[0m\n",
      "\u001b[?25h  Preparing metadata (setup.py) ... \u001b[?25l\u001b[?25hdone\n",
      "\u001b[2K   \u001b[90m━━━━━━━━━━━━━━━━━━━━━━━━━━━━━━━━━━━━━━━━\u001b[0m \u001b[32m1.7/1.7 MB\u001b[0m \u001b[31m8.2 MB/s\u001b[0m eta \u001b[36m0:00:00\u001b[0m\n",
      "\u001b[2K   \u001b[90m━━━━━━━━━━━━━━━━━━━━━━━━━━━━━━━━━━━━━━━━\u001b[0m \u001b[32m9.6/9.6 MB\u001b[0m \u001b[31m12.2 MB/s\u001b[0m eta \u001b[36m0:00:00\u001b[0m\n",
      "\u001b[2K   \u001b[90m━━━━━━━━━━━━━━━━━━━━━━━━━━━━━━━━━━━━━━━━\u001b[0m \u001b[32m29.4/29.4 MB\u001b[0m \u001b[31m19.6 MB/s\u001b[0m eta \u001b[36m0:00:00\u001b[0m\n",
      "\u001b[2K   \u001b[90m━━━━━━━━━━━━━━━━━━━━━━━━━━━━━━━━━━━━━━━━\u001b[0m \u001b[32m3.2/3.2 MB\u001b[0m \u001b[31m23.9 MB/s\u001b[0m eta \u001b[36m0:00:00\u001b[0m\n",
      "\u001b[2K   \u001b[90m━━━━━━━━━━━━━━━━━━━━━━━━━━━━━━━━━━━━━━━━\u001b[0m \u001b[32m52.0/52.0 kB\u001b[0m \u001b[31m2.9 MB/s\u001b[0m eta \u001b[36m0:00:00\u001b[0m\n",
      "\u001b[2K   \u001b[90m━━━━━━━━━━━━━━━━━━━━━━━━━━━━━━━━━━━━━━━━\u001b[0m \u001b[32m43.1/43.1 MB\u001b[0m \u001b[31m9.6 MB/s\u001b[0m eta \u001b[36m0:00:00\u001b[0m\n",
      "\u001b[2K   \u001b[90m━━━━━━━━━━━━━━━━━━━━━━━━━━━━━━━━━━━━━━━━\u001b[0m \u001b[32m34.9/34.9 MB\u001b[0m \u001b[31m10.6 MB/s\u001b[0m eta \u001b[36m0:00:00\u001b[0m\n",
      "\u001b[2K   \u001b[90m━━━━━━━━━━━━━━━━━━━━━━━━━━━━━━━━━━━━━━━━\u001b[0m \u001b[32m15.9/15.9 MB\u001b[0m \u001b[31m20.0 MB/s\u001b[0m eta \u001b[36m0:00:00\u001b[0m\n",
      "\u001b[2K   \u001b[90m━━━━━━━━━━━━━━━━━━━━━━━━━━━━━━━━━━━━━━━━\u001b[0m \u001b[32m254.7/254.7 kB\u001b[0m \u001b[31m6.7 MB/s\u001b[0m eta \u001b[36m0:00:00\u001b[0m\n",
      "\u001b[2K   \u001b[90m━━━━━━━━━━━━━━━━━━━━━━━━━━━━━━━━━━━━━━━━\u001b[0m \u001b[32m475.2/475.2 MB\u001b[0m \u001b[31m3.4 MB/s\u001b[0m eta \u001b[36m0:00:00\u001b[0m\n",
      "\u001b[2K   \u001b[90m━━━━━━━━━━━━━━━━━━━━━━━━━━━━━━━━━━━━━━━━\u001b[0m \u001b[32m124.4/124.4 kB\u001b[0m \u001b[31m7.5 MB/s\u001b[0m eta \u001b[36m0:00:00\u001b[0m\n",
      "\u001b[2K   \u001b[90m━━━━━━━━━━━━━━━━━━━━━━━━━━━━━━━━━━━━━━━━\u001b[0m \u001b[32m2.2/2.2 MB\u001b[0m \u001b[31m42.2 MB/s\u001b[0m eta \u001b[36m0:00:00\u001b[0m\n",
      "\u001b[2K   \u001b[90m━━━━━━━━━━━━━━━━━━━━━━━━━━━━━━━━━━━━━━━━\u001b[0m \u001b[32m25.2/25.2 MB\u001b[0m \u001b[31m43.3 MB/s\u001b[0m eta \u001b[36m0:00:00\u001b[0m\n",
      "\u001b[2K   \u001b[90m━━━━━━━━━━━━━━━━━━━━━━━━━━━━━━━━━━━━━━━━\u001b[0m \u001b[32m2.1/2.1 MB\u001b[0m \u001b[31m43.7 MB/s\u001b[0m eta \u001b[36m0:00:00\u001b[0m\n",
      "\u001b[2K   \u001b[90m━━━━━━━━━━━━━━━━━━━━━━━━━━━━━━━━━━━━━━━━\u001b[0m \u001b[32m5.5/5.5 MB\u001b[0m \u001b[31m58.9 MB/s\u001b[0m eta \u001b[36m0:00:00\u001b[0m\n",
      "\u001b[2K   \u001b[90m━━━━━━━━━━━━━━━━━━━━━━━━━━━━━━━━━━━━━━━━\u001b[0m \u001b[32m442.0/442.0 kB\u001b[0m \u001b[31m22.6 MB/s\u001b[0m eta \u001b[36m0:00:00\u001b[0m\n",
      "\u001b[2K   \u001b[90m━━━━━━━━━━━━━━━━━━━━━━━━━━━━━━━━━━━━━━━━\u001b[0m \u001b[32m26.5/26.5 MB\u001b[0m \u001b[31m43.5 MB/s\u001b[0m eta \u001b[36m0:00:00\u001b[0m\n",
      "\u001b[2K   \u001b[90m━━━━━━━━━━━━━━━━━━━━━━━━━━━━━━━━━━━━━━━━\u001b[0m \u001b[32m77.9/77.9 kB\u001b[0m \u001b[31m5.4 MB/s\u001b[0m eta \u001b[36m0:00:00\u001b[0m\n",
      "\u001b[2K   \u001b[90m━━━━━━━━━━━━━━━━━━━━━━━━━━━━━━━━━━━━━━━━\u001b[0m \u001b[32m77.2/77.2 kB\u001b[0m \u001b[31m5.6 MB/s\u001b[0m eta \u001b[36m0:00:00\u001b[0m\n",
      "\u001b[2K   \u001b[90m━━━━━━━━━━━━━━━━━━━━━━━━━━━━━━━━━━━━━━━━\u001b[0m \u001b[32m56.9/56.9 kB\u001b[0m \u001b[31m3.1 MB/s\u001b[0m eta \u001b[36m0:00:00\u001b[0m\n",
      "\u001b[2K   \u001b[90m━━━━━━━━━━━━━━━━━━━━━━━━━━━━━━━━━━━━━━━━\u001b[0m \u001b[32m85.7/85.7 kB\u001b[0m \u001b[31m5.8 MB/s\u001b[0m eta \u001b[36m0:00:00\u001b[0m\n",
      "\u001b[2K   \u001b[90m━━━━━━━━━━━━━━━━━━━━━━━━━━━━━━━━━━━━━━━━\u001b[0m \u001b[32m12.5/12.5 MB\u001b[0m \u001b[31m52.4 MB/s\u001b[0m eta \u001b[36m0:00:00\u001b[0m\n",
      "\u001b[2K   \u001b[90m━━━━━━━━━━━━━━━━━━━━━━━━━━━━━━━━━━━━━━━━\u001b[0m \u001b[32m79.8/79.8 kB\u001b[0m \u001b[31m4.9 MB/s\u001b[0m eta \u001b[36m0:00:00\u001b[0m\n",
      "\u001b[?25h  Building wheel for PyTDC (setup.py) ... \u001b[?25l\u001b[?25hdone\n",
      "  Building wheel for session-info (setup.py) ... \u001b[?25l\u001b[?25hdone\n",
      "\u001b[31mERROR: pip's dependency resolver does not currently take into account all the packages that are installed. This behaviour is the source of the following dependency conflicts.\n",
      "tf-keras 2.17.0 requires tensorflow<2.18,>=2.17, but you have tensorflow 2.15.1 which is incompatible.\u001b[0m\u001b[31m\n",
      "\u001b[0m--2024-08-26 06:27:26--  https://github.com/logictensornetworks/logictensornetworks/raw/master/examples/multiclass_classification/commons.py\n",
      "Resolving github.com (github.com)... 140.82.113.4\n",
      "Connecting to github.com (github.com)|140.82.113.4|:443... connected.\n",
      "HTTP request sent, awaiting response... 302 Found\n",
      "Location: https://raw.githubusercontent.com/logictensornetworks/logictensornetworks/master/examples/multiclass_classification/commons.py [following]\n",
      "--2024-08-26 06:27:26--  https://raw.githubusercontent.com/logictensornetworks/logictensornetworks/master/examples/multiclass_classification/commons.py\n",
      "Resolving raw.githubusercontent.com (raw.githubusercontent.com)... 185.199.108.133, 185.199.109.133, 185.199.110.133, ...\n",
      "Connecting to raw.githubusercontent.com (raw.githubusercontent.com)|185.199.108.133|:443... connected.\n",
      "HTTP request sent, awaiting response... 200 OK\n",
      "Length: 2147 (2.1K) [text/plain]\n",
      "Saving to: ‘commons.py’\n",
      "\n",
      "commons.py          100%[===================>]   2.10K  --.-KB/s    in 0s      \n",
      "\n",
      "2024-08-26 06:27:27 (30.6 MB/s) - ‘commons.py’ saved [2147/2147]\n",
      "\n"
     ]
    }
   ],
   "source": [
    "!pip install PyTDC rdkit-pypi ltn keras==2.15.0 -qq\n",
    "!wget https://github.com/logictensornetworks/logictensornetworks/raw/master/examples/multiclass_classification/commons.py"
   ]
  },
  {
   "cell_type": "code",
   "execution_count": 3,
   "metadata": {
    "colab": {
     "base_uri": "https://localhost:8080/"
    },
    "executionInfo": {
     "elapsed": 21024,
     "status": "ok",
     "timestamp": 1724653668423,
     "user": {
      "displayName": "Delower Hossain",
      "userId": "01553421328143772667"
     },
     "user_tz": 300
    },
    "id": "Bl9NctWtCJPl",
    "outputId": "bf04acdb-216a-4758-8547-7a62d14f7cb7"
   },
   "outputs": [
    {
     "name": "stdout",
     "output_type": "stream",
     "text": [
      "Mounted at /content/drive\n"
     ]
    }
   ],
   "source": [
    "from google.colab import drive\n",
    "drive.mount('/content/drive')"
   ]
  },
  {
   "cell_type": "code",
   "execution_count": 4,
   "metadata": {
    "executionInfo": {
     "elapsed": 14686,
     "status": "ok",
     "timestamp": 1724653683101,
     "user": {
      "displayName": "Delower Hossain",
      "userId": "01553421328143772667"
     },
     "user_tz": 300
    },
    "id": "-xqEMK4jBEGR"
   },
   "outputs": [],
   "source": [
    "import logging; logging.basicConfig(level=logging.INFO)\n",
    "import tensorflow as tf\n",
    "import pandas as pd\n",
    "import numpy as np\n",
    "import ltn\n",
    "from rdkit import Chem\n",
    "from rdkit.Chem import AllChem\n",
    "from tqdm.auto import tqdm\n",
    "tqdm.pandas()"
   ]
  },
  {
   "cell_type": "markdown",
   "metadata": {
    "id": "T7RkVQGALufX"
   },
   "source": [
    "# Utils Functions"
   ]
  },
  {
   "cell_type": "code",
   "execution_count": 5,
   "metadata": {
    "executionInfo": {
     "elapsed": 16,
     "status": "ok",
     "timestamp": 1724653683101,
     "user": {
      "displayName": "Delower Hossain",
      "userId": "01553421328143772667"
     },
     "user_tz": 300
    },
    "id": "KFe7NuVjMHe4"
   },
   "outputs": [],
   "source": [
    "# Threshold ref: https://pubs.acs.org/doi/epdf/10.1021/acs.jcim.3c01301\n",
    "def label_th(pic50):\n",
    "    classes = []\n",
    "    for x in pic50:\n",
    "        if x>=5:\n",
    "            classes.append(1)\n",
    "        else:\n",
    "            classes.append(0)\n",
    "\n",
    "    return np.asarray(classes)\n",
    "class_map = {\n",
    "    \"blocks\":1,\n",
    "    \"non-blocks\":0,\n",
    "}"
   ]
  },
  {
   "cell_type": "markdown",
   "metadata": {
    "id": "du6bc1RjESmY"
   },
   "source": [
    "### Data Acquisition"
   ]
  },
  {
   "cell_type": "code",
   "execution_count": 6,
   "metadata": {
    "executionInfo": {
     "elapsed": 16,
     "status": "ok",
     "timestamp": 1724653683102,
     "user": {
      "displayName": "Delower Hossain",
      "userId": "01553421328143772667"
     },
     "user_tz": 300
    },
    "id": "fdTlLyVBRgZn"
   },
   "outputs": [],
   "source": [
    "dataset_path = \"/content/drive/MyDrive/Project/AI and Cardiology/Cardiotoxicity/Dataset\""
   ]
  },
  {
   "cell_type": "code",
   "execution_count": 7,
   "metadata": {
    "colab": {
     "base_uri": "https://localhost:8080/"
    },
    "executionInfo": {
     "elapsed": 754,
     "status": "ok",
     "timestamp": 1724653683841,
     "user": {
      "displayName": "Delower Hossain",
      "userId": "01553421328143772667"
     },
     "user_tz": 300
    },
    "id": "eX_tCcYNRgZx",
    "outputId": "5c831790-b2a4-432d-ef89-d0954e909c28"
   },
   "outputs": [
    {
     "name": "stdout",
     "output_type": "stream",
     "text": [
      "CDK-external_test_set_pos.csv  eval_set_herg_70.csv\t       herg_mmb_emb_h70.npz\n",
      "CDK-herg60.csv\t\t       external_test_set_pos.csv       Morgan-external_test_set_pos.csv\n",
      "CDK-herg70.csv\t\t       herg_mmb_emb_external_test.npz  Morgan-herg60.csv\n",
      "eval_set_herg_60.csv\t       herg_mmb_emb_h60.npz\t       Morgan-herg70.csv\n"
     ]
    }
   ],
   "source": [
    "!ls \"{dataset_path}/External-Data\""
   ]
  },
  {
   "cell_type": "code",
   "execution_count": 8,
   "metadata": {
    "executionInfo": {
     "elapsed": 807,
     "status": "ok",
     "timestamp": 1724653684638,
     "user": {
      "displayName": "Delower Hossain",
      "userId": "01553421328143772667"
     },
     "user_tz": 300
    },
    "id": "WHLGoZxHRgZx"
   },
   "outputs": [],
   "source": [
    "df = pd.read_csv(f\"{dataset_path}/UniChemDB-Data/final-herg.csv\")\n",
    "df.dropna(subset = ['std_smiles'],inplace = True)\n",
    "df.reset_index(drop = True,inplace = True)"
   ]
  },
  {
   "cell_type": "code",
   "execution_count": 9,
   "metadata": {
    "colab": {
     "base_uri": "https://localhost:8080/"
    },
    "executionInfo": {
     "elapsed": 7,
     "status": "ok",
     "timestamp": 1724653684639,
     "user": {
      "displayName": "Delower Hossain",
      "userId": "01553421328143772667"
     },
     "user_tz": 300
    },
    "id": "LsDSkv4RFbuh",
    "outputId": "734f9f4e-c132-4c47-faab-d62a423fac8f"
   },
   "outputs": [
    {
     "name": "stdout",
     "output_type": "stream",
     "text": [
      "<class 'pandas.core.frame.DataFrame'>\n",
      "RangeIndex: 20409 entries, 0 to 20408\n",
      "Data columns (total 3 columns):\n",
      " #   Column      Non-Null Count  Dtype \n",
      "---  ------      --------------  ----- \n",
      " 0   id          20388 non-null  object\n",
      " 1   std_smiles  20409 non-null  object\n",
      " 2   classes     20409 non-null  object\n",
      "dtypes: object(3)\n",
      "memory usage: 478.5+ KB\n"
     ]
    }
   ],
   "source": [
    "df.info()"
   ]
  },
  {
   "cell_type": "markdown",
   "metadata": {
    "id": "BOheP_TPBEGS"
   },
   "source": [
    "# Data\n",
    "\n"
   ]
  },
  {
   "cell_type": "code",
   "execution_count": 10,
   "metadata": {
    "executionInfo": {
     "elapsed": 448,
     "status": "ok",
     "timestamp": 1724653685081,
     "user": {
      "displayName": "Delower Hossain",
      "userId": "01553421328143772667"
     },
     "user_tz": 300
    },
    "id": "KjdwAD20HA6l"
   },
   "outputs": [],
   "source": [
    "#External Test-1: https://github.com/Abdulk084/CardioTox/blob/master/data/external_test_set_pos.csv\n",
    "test_pos_df = pd.read_csv(f\"{dataset_path}/External-Data/external_test_set_pos.csv\")"
   ]
  },
  {
   "cell_type": "code",
   "execution_count": 11,
   "metadata": {
    "executionInfo": {
     "elapsed": 641,
     "status": "ok",
     "timestamp": 1724653685720,
     "user": {
      "displayName": "Delower Hossain",
      "userId": "01553421328143772667"
     },
     "user_tz": 300
    },
    "id": "hWYZvDMBJ0UP"
   },
   "outputs": [],
   "source": [
    "# External Test h70, h60 dataset: https://github.com/issararab/CToxPred/tree/main/data/raw/hERG\n",
    "test_h60_df = pd.read_csv(f\"{dataset_path}/External-Data/eval_set_herg_60.csv\")\n",
    "test_h70_df = pd.read_csv(f\"{dataset_path}/External-Data/eval_set_herg_70.csv\")\n"
   ]
  },
  {
   "cell_type": "code",
   "execution_count": 12,
   "metadata": {
    "colab": {
     "base_uri": "https://localhost:8080/",
     "height": 293
    },
    "executionInfo": {
     "elapsed": 21,
     "status": "ok",
     "timestamp": 1724653685734,
     "user": {
      "displayName": "Delower Hossain",
      "userId": "01553421328143772667"
     },
     "user_tz": 300
    },
    "id": "2dLlXveFLXz-",
    "outputId": "98fd19c8-6fca-4c29-bfa3-3094de775996"
   },
   "outputs": [
    {
     "data": {
      "application/vnd.google.colaboratory.intrinsic+json": {
       "summary": "{\n  \"name\": \"test_h60_df\",\n  \"rows\": 250,\n  \"fields\": [\n    {\n      \"column\": \"InChl Key\",\n      \"properties\": {\n        \"dtype\": \"string\",\n        \"num_unique_values\": 250,\n        \"samples\": [\n          \"PDGUQPADGLCLCV-UHFFFAOYSA-N\",\n          \"HDRWLCNLGWCVEP-IQGLISFBSA-N\",\n          \"DSJVYEAOYVHUJW-CVDCTZTESA-N\"\n        ],\n        \"semantic_type\": \"\",\n        \"description\": \"\"\n      }\n    },\n    {\n      \"column\": \"SMILES\",\n      \"properties\": {\n        \"dtype\": \"string\",\n        \"num_unique_values\": 250,\n        \"samples\": [\n          \"Cc1nnc(Sc2nc3cc(Cl)c(Cl)cc3nc2C(F)(F)F)s1\",\n          \"C[C@@H]1Cc2c([nH]c3ccccc23)[C@@](C)(c2cccc(OCCNCCCF)c2)N1CC(F)(F)F\",\n          \"C[C@@H](CNCc1ccccc1)N1C[C@H](CCCNC(=N)N)N(CCc2cccc(F)c2)C1=S\"\n        ],\n        \"semantic_type\": \"\",\n        \"description\": \"\"\n      }\n    },\n    {\n      \"column\": \"Source\",\n      \"properties\": {\n        \"dtype\": \"category\",\n        \"num_unique_values\": 5,\n        \"samples\": [\n          \"Didziapetris et al., 2016\",\n          \"Konda et al., 2019\",\n          \"Doddareddy et al., 2010\"\n        ],\n        \"semantic_type\": \"\",\n        \"description\": \"\"\n      }\n    },\n    {\n      \"column\": \"pIC50\",\n      \"properties\": {\n        \"dtype\": \"number\",\n        \"std\": 1.062817264216774,\n        \"min\": 1.204119983,\n        \"max\": 7.920818754,\n        \"num_unique_values\": 160,\n        \"samples\": [\n          2.220042949,\n          5.15490196,\n          4.700000003\n        ],\n        \"semantic_type\": \"\",\n        \"description\": \"\"\n      }\n    }\n  ]\n}",
       "type": "dataframe",
       "variable_name": "test_h60_df"
      },
      "text/html": [
       "\n",
       "  <div id=\"df-d718e156-5c00-496e-82f9-bbfdf9e0ad13\" class=\"colab-df-container\">\n",
       "    <div>\n",
       "<style scoped>\n",
       "    .dataframe tbody tr th:only-of-type {\n",
       "        vertical-align: middle;\n",
       "    }\n",
       "\n",
       "    .dataframe tbody tr th {\n",
       "        vertical-align: top;\n",
       "    }\n",
       "\n",
       "    .dataframe thead th {\n",
       "        text-align: right;\n",
       "    }\n",
       "</style>\n",
       "<table border=\"1\" class=\"dataframe\">\n",
       "  <thead>\n",
       "    <tr style=\"text-align: right;\">\n",
       "      <th></th>\n",
       "      <th>InChl Key</th>\n",
       "      <th>SMILES</th>\n",
       "      <th>Source</th>\n",
       "      <th>pIC50</th>\n",
       "    </tr>\n",
       "  </thead>\n",
       "  <tbody>\n",
       "    <tr>\n",
       "      <th>0</th>\n",
       "      <td>LIHJHFVXLZSRNK-UHFFFAOYSA-N</td>\n",
       "      <td>Cn1ccc(C[N+]2=CC(c3cccc(C(F)(F)F)c3)C=N2)n1</td>\n",
       "      <td>US Patent</td>\n",
       "      <td>5.647817</td>\n",
       "    </tr>\n",
       "    <tr>\n",
       "      <th>1</th>\n",
       "      <td>RXGDDWPITVSKDR-UHFFFAOYSA-N</td>\n",
       "      <td>CC(C)(C)OC(=O)N1CCN(c2nc3c([N+](=O)[O-])c(Br)c...</td>\n",
       "      <td>US Patent</td>\n",
       "      <td>5.602060</td>\n",
       "    </tr>\n",
       "    <tr>\n",
       "      <th>2</th>\n",
       "      <td>YRSBMPKJFDYYFO-UHFFFAOYSA-N</td>\n",
       "      <td>Fc1cccc(Oc2cc(C(F)(F)F)nc(N3CCc4nc[nH]c4C3)n2)c1</td>\n",
       "      <td>US Patent</td>\n",
       "      <td>5.599980</td>\n",
       "    </tr>\n",
       "    <tr>\n",
       "      <th>3</th>\n",
       "      <td>OMQQLDITRYIEHZ-UHFFFAOYSA-N</td>\n",
       "      <td>Cn1nccc1Cc1cn(-c2ccc(F)c(Cl)c2)nn1</td>\n",
       "      <td>US Patent</td>\n",
       "      <td>5.364516</td>\n",
       "    </tr>\n",
       "    <tr>\n",
       "      <th>4</th>\n",
       "      <td>BXBUTKPGTGJGTQ-YOEHRIQHSA-N</td>\n",
       "      <td>CNC[C@@H](c1ccc(Cl)c(Cl)c1)[C@@H](OC)c1cccc(NS...</td>\n",
       "      <td>US Patent</td>\n",
       "      <td>5.327902</td>\n",
       "    </tr>\n",
       "  </tbody>\n",
       "</table>\n",
       "</div>\n",
       "    <div class=\"colab-df-buttons\">\n",
       "\n",
       "  <div class=\"colab-df-container\">\n",
       "    <button class=\"colab-df-convert\" onclick=\"convertToInteractive('df-d718e156-5c00-496e-82f9-bbfdf9e0ad13')\"\n",
       "            title=\"Convert this dataframe to an interactive table.\"\n",
       "            style=\"display:none;\">\n",
       "\n",
       "  <svg xmlns=\"http://www.w3.org/2000/svg\" height=\"24px\" viewBox=\"0 -960 960 960\">\n",
       "    <path d=\"M120-120v-720h720v720H120Zm60-500h600v-160H180v160Zm220 220h160v-160H400v160Zm0 220h160v-160H400v160ZM180-400h160v-160H180v160Zm440 0h160v-160H620v160ZM180-180h160v-160H180v160Zm440 0h160v-160H620v160Z\"/>\n",
       "  </svg>\n",
       "    </button>\n",
       "\n",
       "  <style>\n",
       "    .colab-df-container {\n",
       "      display:flex;\n",
       "      gap: 12px;\n",
       "    }\n",
       "\n",
       "    .colab-df-convert {\n",
       "      background-color: #E8F0FE;\n",
       "      border: none;\n",
       "      border-radius: 50%;\n",
       "      cursor: pointer;\n",
       "      display: none;\n",
       "      fill: #1967D2;\n",
       "      height: 32px;\n",
       "      padding: 0 0 0 0;\n",
       "      width: 32px;\n",
       "    }\n",
       "\n",
       "    .colab-df-convert:hover {\n",
       "      background-color: #E2EBFA;\n",
       "      box-shadow: 0px 1px 2px rgba(60, 64, 67, 0.3), 0px 1px 3px 1px rgba(60, 64, 67, 0.15);\n",
       "      fill: #174EA6;\n",
       "    }\n",
       "\n",
       "    .colab-df-buttons div {\n",
       "      margin-bottom: 4px;\n",
       "    }\n",
       "\n",
       "    [theme=dark] .colab-df-convert {\n",
       "      background-color: #3B4455;\n",
       "      fill: #D2E3FC;\n",
       "    }\n",
       "\n",
       "    [theme=dark] .colab-df-convert:hover {\n",
       "      background-color: #434B5C;\n",
       "      box-shadow: 0px 1px 3px 1px rgba(0, 0, 0, 0.15);\n",
       "      filter: drop-shadow(0px 1px 2px rgba(0, 0, 0, 0.3));\n",
       "      fill: #FFFFFF;\n",
       "    }\n",
       "  </style>\n",
       "\n",
       "    <script>\n",
       "      const buttonEl =\n",
       "        document.querySelector('#df-d718e156-5c00-496e-82f9-bbfdf9e0ad13 button.colab-df-convert');\n",
       "      buttonEl.style.display =\n",
       "        google.colab.kernel.accessAllowed ? 'block' : 'none';\n",
       "\n",
       "      async function convertToInteractive(key) {\n",
       "        const element = document.querySelector('#df-d718e156-5c00-496e-82f9-bbfdf9e0ad13');\n",
       "        const dataTable =\n",
       "          await google.colab.kernel.invokeFunction('convertToInteractive',\n",
       "                                                    [key], {});\n",
       "        if (!dataTable) return;\n",
       "\n",
       "        const docLinkHtml = 'Like what you see? Visit the ' +\n",
       "          '<a target=\"_blank\" href=https://colab.research.google.com/notebooks/data_table.ipynb>data table notebook</a>'\n",
       "          + ' to learn more about interactive tables.';\n",
       "        element.innerHTML = '';\n",
       "        dataTable['output_type'] = 'display_data';\n",
       "        await google.colab.output.renderOutput(dataTable, element);\n",
       "        const docLink = document.createElement('div');\n",
       "        docLink.innerHTML = docLinkHtml;\n",
       "        element.appendChild(docLink);\n",
       "      }\n",
       "    </script>\n",
       "  </div>\n",
       "\n",
       "\n",
       "<div id=\"df-bc39622f-57d9-4747-972d-136f2fa58be1\">\n",
       "  <button class=\"colab-df-quickchart\" onclick=\"quickchart('df-bc39622f-57d9-4747-972d-136f2fa58be1')\"\n",
       "            title=\"Suggest charts\"\n",
       "            style=\"display:none;\">\n",
       "\n",
       "<svg xmlns=\"http://www.w3.org/2000/svg\" height=\"24px\"viewBox=\"0 0 24 24\"\n",
       "     width=\"24px\">\n",
       "    <g>\n",
       "        <path d=\"M19 3H5c-1.1 0-2 .9-2 2v14c0 1.1.9 2 2 2h14c1.1 0 2-.9 2-2V5c0-1.1-.9-2-2-2zM9 17H7v-7h2v7zm4 0h-2V7h2v10zm4 0h-2v-4h2v4z\"/>\n",
       "    </g>\n",
       "</svg>\n",
       "  </button>\n",
       "\n",
       "<style>\n",
       "  .colab-df-quickchart {\n",
       "      --bg-color: #E8F0FE;\n",
       "      --fill-color: #1967D2;\n",
       "      --hover-bg-color: #E2EBFA;\n",
       "      --hover-fill-color: #174EA6;\n",
       "      --disabled-fill-color: #AAA;\n",
       "      --disabled-bg-color: #DDD;\n",
       "  }\n",
       "\n",
       "  [theme=dark] .colab-df-quickchart {\n",
       "      --bg-color: #3B4455;\n",
       "      --fill-color: #D2E3FC;\n",
       "      --hover-bg-color: #434B5C;\n",
       "      --hover-fill-color: #FFFFFF;\n",
       "      --disabled-bg-color: #3B4455;\n",
       "      --disabled-fill-color: #666;\n",
       "  }\n",
       "\n",
       "  .colab-df-quickchart {\n",
       "    background-color: var(--bg-color);\n",
       "    border: none;\n",
       "    border-radius: 50%;\n",
       "    cursor: pointer;\n",
       "    display: none;\n",
       "    fill: var(--fill-color);\n",
       "    height: 32px;\n",
       "    padding: 0;\n",
       "    width: 32px;\n",
       "  }\n",
       "\n",
       "  .colab-df-quickchart:hover {\n",
       "    background-color: var(--hover-bg-color);\n",
       "    box-shadow: 0 1px 2px rgba(60, 64, 67, 0.3), 0 1px 3px 1px rgba(60, 64, 67, 0.15);\n",
       "    fill: var(--button-hover-fill-color);\n",
       "  }\n",
       "\n",
       "  .colab-df-quickchart-complete:disabled,\n",
       "  .colab-df-quickchart-complete:disabled:hover {\n",
       "    background-color: var(--disabled-bg-color);\n",
       "    fill: var(--disabled-fill-color);\n",
       "    box-shadow: none;\n",
       "  }\n",
       "\n",
       "  .colab-df-spinner {\n",
       "    border: 2px solid var(--fill-color);\n",
       "    border-color: transparent;\n",
       "    border-bottom-color: var(--fill-color);\n",
       "    animation:\n",
       "      spin 1s steps(1) infinite;\n",
       "  }\n",
       "\n",
       "  @keyframes spin {\n",
       "    0% {\n",
       "      border-color: transparent;\n",
       "      border-bottom-color: var(--fill-color);\n",
       "      border-left-color: var(--fill-color);\n",
       "    }\n",
       "    20% {\n",
       "      border-color: transparent;\n",
       "      border-left-color: var(--fill-color);\n",
       "      border-top-color: var(--fill-color);\n",
       "    }\n",
       "    30% {\n",
       "      border-color: transparent;\n",
       "      border-left-color: var(--fill-color);\n",
       "      border-top-color: var(--fill-color);\n",
       "      border-right-color: var(--fill-color);\n",
       "    }\n",
       "    40% {\n",
       "      border-color: transparent;\n",
       "      border-right-color: var(--fill-color);\n",
       "      border-top-color: var(--fill-color);\n",
       "    }\n",
       "    60% {\n",
       "      border-color: transparent;\n",
       "      border-right-color: var(--fill-color);\n",
       "    }\n",
       "    80% {\n",
       "      border-color: transparent;\n",
       "      border-right-color: var(--fill-color);\n",
       "      border-bottom-color: var(--fill-color);\n",
       "    }\n",
       "    90% {\n",
       "      border-color: transparent;\n",
       "      border-bottom-color: var(--fill-color);\n",
       "    }\n",
       "  }\n",
       "</style>\n",
       "\n",
       "  <script>\n",
       "    async function quickchart(key) {\n",
       "      const quickchartButtonEl =\n",
       "        document.querySelector('#' + key + ' button');\n",
       "      quickchartButtonEl.disabled = true;  // To prevent multiple clicks.\n",
       "      quickchartButtonEl.classList.add('colab-df-spinner');\n",
       "      try {\n",
       "        const charts = await google.colab.kernel.invokeFunction(\n",
       "            'suggestCharts', [key], {});\n",
       "      } catch (error) {\n",
       "        console.error('Error during call to suggestCharts:', error);\n",
       "      }\n",
       "      quickchartButtonEl.classList.remove('colab-df-spinner');\n",
       "      quickchartButtonEl.classList.add('colab-df-quickchart-complete');\n",
       "    }\n",
       "    (() => {\n",
       "      let quickchartButtonEl =\n",
       "        document.querySelector('#df-bc39622f-57d9-4747-972d-136f2fa58be1 button');\n",
       "      quickchartButtonEl.style.display =\n",
       "        google.colab.kernel.accessAllowed ? 'block' : 'none';\n",
       "    })();\n",
       "  </script>\n",
       "</div>\n",
       "\n",
       "    </div>\n",
       "  </div>\n"
      ],
      "text/plain": [
       "                     InChl Key  \\\n",
       "0  LIHJHFVXLZSRNK-UHFFFAOYSA-N   \n",
       "1  RXGDDWPITVSKDR-UHFFFAOYSA-N   \n",
       "2  YRSBMPKJFDYYFO-UHFFFAOYSA-N   \n",
       "3  OMQQLDITRYIEHZ-UHFFFAOYSA-N   \n",
       "4  BXBUTKPGTGJGTQ-YOEHRIQHSA-N   \n",
       "\n",
       "                                              SMILES     Source     pIC50  \n",
       "0        Cn1ccc(C[N+]2=CC(c3cccc(C(F)(F)F)c3)C=N2)n1  US Patent  5.647817  \n",
       "1  CC(C)(C)OC(=O)N1CCN(c2nc3c([N+](=O)[O-])c(Br)c...  US Patent  5.602060  \n",
       "2   Fc1cccc(Oc2cc(C(F)(F)F)nc(N3CCc4nc[nH]c4C3)n2)c1  US Patent  5.599980  \n",
       "3                 Cn1nccc1Cc1cn(-c2ccc(F)c(Cl)c2)nn1  US Patent  5.364516  \n",
       "4  CNC[C@@H](c1ccc(Cl)c(Cl)c1)[C@@H](OC)c1cccc(NS...  US Patent  5.327902  "
      ]
     },
     "execution_count": 12,
     "metadata": {},
     "output_type": "execute_result"
    }
   ],
   "source": [
    "test_h60_df.head()"
   ]
  },
  {
   "cell_type": "code",
   "execution_count": 13,
   "metadata": {
    "executionInfo": {
     "elapsed": 7,
     "status": "ok",
     "timestamp": 1724653685917,
     "user": {
      "displayName": "Delower Hossain",
      "userId": "01553421328143772667"
     },
     "user_tz": 300
    },
    "id": "3qyOi5LJLerU"
   },
   "outputs": [],
   "source": [
    "#Threshold conversion\n",
    "test_h60_df['target'] = label_th(test_h60_df.pIC50)\n",
    "test_h70_df['target'] = label_th(test_h70_df.pIC50)"
   ]
  },
  {
   "cell_type": "code",
   "execution_count": 14,
   "metadata": {
    "colab": {
     "base_uri": "https://localhost:8080/"
    },
    "executionInfo": {
     "elapsed": 6,
     "status": "ok",
     "timestamp": 1724653685917,
     "user": {
      "displayName": "Delower Hossain",
      "userId": "01553421328143772667"
     },
     "user_tz": 300
    },
    "id": "YHjfAmJxQCuf",
    "outputId": "2c7a806d-b233-449e-93be-48ccba8bf6b7"
   },
   "outputs": [
    {
     "name": "stdout",
     "output_type": "stream",
     "text": [
      "CDK-unichemdb.csv  final-herg.csv  final-herg-split.csv  mmb_embeddings.npy  Morgan-unichemdb.csv\n"
     ]
    }
   ],
   "source": [
    "!ls \"{dataset_path}\"/UniChemDB-Data"
   ]
  },
  {
   "cell_type": "code",
   "execution_count": 15,
   "metadata": {
    "executionInfo": {
     "elapsed": 6812,
     "status": "ok",
     "timestamp": 1724653692725,
     "user": {
      "displayName": "Delower Hossain",
      "userId": "01553421328143772667"
     },
     "user_tz": 300
    },
    "id": "68DwUv1QWmge"
   },
   "outputs": [],
   "source": [
    "X = pd.read_csv(dataset_path+f\"/UniChemDB-Data/CDK-unichemdb.csv\").set_index(\"Name\")\n",
    "y = df['classes'].replace(class_map).values"
   ]
  },
  {
   "cell_type": "code",
   "execution_count": 16,
   "metadata": {
    "colab": {
     "base_uri": "https://localhost:8080/"
    },
    "executionInfo": {
     "elapsed": 20,
     "status": "ok",
     "timestamp": 1724653692725,
     "user": {
      "displayName": "Delower Hossain",
      "userId": "01553421328143772667"
     },
     "user_tz": 300
    },
    "id": "JIGFW3_1Rpm0",
    "outputId": "4d9de475-edfc-4a03-b6af-f51aaf54d58c"
   },
   "outputs": [
    {
     "data": {
      "text/plain": [
       "((20409, 1024), (20409,))"
      ]
     },
     "execution_count": 16,
     "metadata": {},
     "output_type": "execute_result"
    }
   ],
   "source": [
    "X.shape, y.shape"
   ]
  },
  {
   "cell_type": "code",
   "execution_count": 17,
   "metadata": {
    "colab": {
     "base_uri": "https://localhost:8080/"
    },
    "executionInfo": {
     "elapsed": 208,
     "status": "ok",
     "timestamp": 1724653692915,
     "user": {
      "displayName": "Delower Hossain",
      "userId": "01553421328143772667"
     },
     "user_tz": 300
    },
    "id": "nfQc9ezQadRX",
    "outputId": "cbaee6aa-fea4-4510-cd20-0c202a8ea6ef"
   },
   "outputs": [
    {
     "name": "stdout",
     "output_type": "stream",
     "text": [
      "CDK-external_test_set_pos.csv  eval_set_herg_70.csv\t       herg_mmb_emb_h70.npz\n",
      "CDK-herg60.csv\t\t       external_test_set_pos.csv       Morgan-external_test_set_pos.csv\n",
      "CDK-herg70.csv\t\t       herg_mmb_emb_external_test.npz  Morgan-herg60.csv\n",
      "eval_set_herg_60.csv\t       herg_mmb_emb_h60.npz\t       Morgan-herg70.csv\n"
     ]
    }
   ],
   "source": [
    "!ls '{dataset_path}/External-Data'"
   ]
  },
  {
   "cell_type": "code",
   "execution_count": 18,
   "metadata": {
    "executionInfo": {
     "elapsed": 1931,
     "status": "ok",
     "timestamp": 1724653694842,
     "user": {
      "displayName": "Delower Hossain",
      "userId": "01553421328143772667"
     },
     "user_tz": 300
    },
    "id": "CgsH_WksZ-JF"
   },
   "outputs": [],
   "source": [
    "ext_pos_df = pd.read_csv(f'{dataset_path}/External-Data/CDK-external_test_set_pos.csv').rename(columns = {'Name':\"target\"})\n",
    "ext_h60_df = pd.read_csv(f'{dataset_path}/External-Data/CDK-herg60.csv').rename(columns = {'Name':\"target\"})\n",
    "ext_h70_df = pd.read_csv(f'{dataset_path}/External-Data/CDK-herg70.csv').rename(columns = {'Name':\"target\"})"
   ]
  },
  {
   "cell_type": "code",
   "execution_count": 19,
   "metadata": {
    "executionInfo": {
     "elapsed": 859,
     "status": "ok",
     "timestamp": 1724653700631,
     "user": {
      "displayName": "Delower Hossain",
      "userId": "01553421328143772667"
     },
     "user_tz": 300
    },
    "id": "e7irmH9vbLrJ"
   },
   "outputs": [],
   "source": [
    "batch_size = 64\n",
    "ds_train = tf.data.Dataset.from_tensor_slices((X,y)).batch(batch_size)\n",
    "idx = X.sample(1000).index\n",
    "ds_test = tf.data.Dataset.from_tensor_slices((X.iloc[idx],y[idx])).batch(batch_size)"
   ]
  },
  {
   "cell_type": "markdown",
   "metadata": {
    "id": "XIB_q8lLBEGT"
   },
   "source": [
    "# LTN\n",
    "\n",
    "Predicate with softmax `P(x,class)`"
   ]
  },
  {
   "cell_type": "code",
   "execution_count": 20,
   "metadata": {
    "executionInfo": {
     "elapsed": 3,
     "status": "ok",
     "timestamp": 1724653700828,
     "user": {
      "displayName": "Delower Hossain",
      "userId": "01553421328143772667"
     },
     "user_tz": 300
    },
    "id": "jz-yBWVTBEGT"
   },
   "outputs": [],
   "source": [
    "class MLP(tf.keras.Model):\n",
    "    \"\"\"Model that returns logits.\"\"\"\n",
    "    def __init__(self, n_classes, hidden_layer_sizes=(16,16,8)):\n",
    "        super(MLP, self).__init__()\n",
    "        self.denses = [tf.keras.layers.Dense(s, activation=\"elu\") for s in hidden_layer_sizes]\n",
    "        self.dense_class = tf.keras.layers.Dense(n_classes)\n",
    "        self.dropout = tf.keras.layers.Dropout(0.2)\n",
    "\n",
    "    def call(self, inputs, training=False):\n",
    "        x = inputs[0]\n",
    "        for dense in self.denses:\n",
    "            x = dense(x)\n",
    "            x = self.dropout(x, training=training)\n",
    "        return self.dense_class(x)\n",
    "\n",
    "logits_model = MLP(2)\n",
    "p = ltn.Predicate.FromLogits(logits_model, activation_function=\"softmax\", with_class_indexing=True)"
   ]
  },
  {
   "cell_type": "markdown",
   "metadata": {
    "id": "Ims-58JIBEGU"
   },
   "source": [
    "Constants to index/iterate on the classes"
   ]
  },
  {
   "cell_type": "code",
   "execution_count": 21,
   "metadata": {
    "executionInfo": {
     "elapsed": 3,
     "status": "ok",
     "timestamp": 1724653701819,
     "user": {
      "displayName": "Delower Hossain",
      "userId": "01553421328143772667"
     },
     "user_tz": 300
    },
    "id": "1d7PPOosBEGU"
   },
   "outputs": [],
   "source": [
    "class_A = ltn.Constant(0, trainable=False)\n",
    "class_B = ltn.Constant(1, trainable=False)\n",
    "# class_C = ltn.Constant(2, trainable=False)"
   ]
  },
  {
   "cell_type": "markdown",
   "metadata": {
    "id": "qPWPhqO4BEGU"
   },
   "source": [
    "Operators and axioms"
   ]
  },
  {
   "cell_type": "code",
   "execution_count": 22,
   "metadata": {
    "executionInfo": {
     "elapsed": 3,
     "status": "ok",
     "timestamp": 1724653702098,
     "user": {
      "displayName": "Delower Hossain",
      "userId": "01553421328143772667"
     },
     "user_tz": 300
    },
    "id": "m4g6TY0RBEGU"
   },
   "outputs": [],
   "source": [
    "Not = ltn.Wrapper_Connective(ltn.fuzzy_ops.Not_Std())\n",
    "And = ltn.Wrapper_Connective(ltn.fuzzy_ops.And_Prod())\n",
    "Or = ltn.Wrapper_Connective(ltn.fuzzy_ops.Or_ProbSum())\n",
    "Implies = ltn.Wrapper_Connective(ltn.fuzzy_ops.Implies_Reichenbach())\n",
    "Forall = ltn.Wrapper_Quantifier(ltn.fuzzy_ops.Aggreg_pMeanError(p=2),semantics=\"forall\")"
   ]
  },
  {
   "cell_type": "code",
   "execution_count": 23,
   "metadata": {
    "executionInfo": {
     "elapsed": 2,
     "status": "ok",
     "timestamp": 1724653702605,
     "user": {
      "displayName": "Delower Hossain",
      "userId": "01553421328143772667"
     },
     "user_tz": 300
    },
    "id": "qaSXY8MOBEGU"
   },
   "outputs": [],
   "source": [
    "formula_aggregator = ltn.Wrapper_Formula_Aggregator(ltn.fuzzy_ops.Aggreg_pMeanError(p=2))\n",
    "\n",
    "@tf.function\n",
    "def axioms(features, labels, training=False):\n",
    "    x_A = ltn.Variable(\"x_A\",features[labels==0])\n",
    "    x_B = ltn.Variable(\"x_B\",features[labels==1])\n",
    "    # x_C = ltn.Variable(\"x_C\",features[labels==2])\n",
    "    axioms = [\n",
    "        Forall(x_A,p([x_A,class_A],training=training)),\n",
    "        Forall(x_B,p([x_B,class_B],training=training)),\n",
    "        # Forall(x_C,p([x_C,class_C],training=training))\n",
    "    ]\n",
    "    for i in range(len(axioms)):\n",
    "        if tf.math.is_nan(axioms[i].tensor):\n",
    "            axioms[i].tensor  =0.0\n",
    "    sat_level = formula_aggregator(axioms).tensor\n",
    "    return sat_level"
   ]
  },
  {
   "cell_type": "markdown",
   "metadata": {
    "id": "uNO_tcttBEGU"
   },
   "source": [
    "Initialize all layers and the static graph"
   ]
  },
  {
   "cell_type": "code",
   "execution_count": 24,
   "metadata": {
    "colab": {
     "base_uri": "https://localhost:8080/"
    },
    "executionInfo": {
     "elapsed": 3082,
     "status": "ok",
     "timestamp": 1724653706496,
     "user": {
      "displayName": "Delower Hossain",
      "userId": "01553421328143772667"
     },
     "user_tz": 300
    },
    "id": "OwzW06QLBEGU",
    "outputId": "6fe21bf4-626b-4f22-92e0-b5a3f39ec099"
   },
   "outputs": [
    {
     "name": "stdout",
     "output_type": "stream",
     "text": [
      "Initial sat level 0.49705\n"
     ]
    }
   ],
   "source": [
    "for features, labels in ds_test:\n",
    "    print(\"Initial sat level %.5f\"%axioms(features,labels))\n",
    "    break"
   ]
  },
  {
   "cell_type": "markdown",
   "metadata": {
    "id": "l6XAeELBBEGV"
   },
   "source": [
    "# Training\n",
    "\n",
    "Define the metrics. While training, we measure:\n",
    "1. The level of satisfiability of the Knowledge Base of the training data.\n",
    "1. The level of satisfiability of the Knowledge Base of the test data.\n",
    "3. The training accuracy.\n",
    "4. The test accuracy."
   ]
  },
  {
   "cell_type": "code",
   "execution_count": 25,
   "metadata": {
    "executionInfo": {
     "elapsed": 4,
     "status": "ok",
     "timestamp": 1724653706496,
     "user": {
      "displayName": "Delower Hossain",
      "userId": "01553421328143772667"
     },
     "user_tz": 300
    },
    "id": "r7SgPNJdBEGV"
   },
   "outputs": [],
   "source": [
    "metrics_dict = {\n",
    "    'train_sat_kb': tf.keras.metrics.Mean(name='train_sat_kb'),\n",
    "    'test_sat_kb': tf.keras.metrics.Mean(name='test_sat_kb'),\n",
    "    'train_accuracy': tf.keras.metrics.CategoricalAccuracy(name=\"train_accuracy\"),\n",
    "    'test_accuracy': tf.keras.metrics.CategoricalAccuracy(name=\"test_accuracy\")\n",
    "}"
   ]
  },
  {
   "cell_type": "markdown",
   "metadata": {
    "id": "0IeuJxKZBEGV"
   },
   "source": [
    "Define the training and test step"
   ]
  },
  {
   "cell_type": "code",
   "execution_count": 26,
   "metadata": {
    "executionInfo": {
     "elapsed": 3,
     "status": "ok",
     "timestamp": 1724653706496,
     "user": {
      "displayName": "Delower Hossain",
      "userId": "01553421328143772667"
     },
     "user_tz": 300
    },
    "id": "9Ll9mg5sBEGV"
   },
   "outputs": [],
   "source": [
    "optimizer = tf.keras.optimizers.Adam(learning_rate=0.001)\n",
    "@tf.function\n",
    "def train_step(features, labels):\n",
    "    # sat and update\n",
    "    with tf.GradientTape() as tape:\n",
    "        sat = axioms(features, labels, training=True)\n",
    "        loss = 1.-sat\n",
    "    gradients = tape.gradient(loss, p.trainable_variables)\n",
    "    optimizer.apply_gradients(zip(gradients, p.trainable_variables))\n",
    "    sat = axioms(features, labels) # compute sat without dropout\n",
    "    metrics_dict['train_sat_kb'](sat)\n",
    "    # accuracy\n",
    "    predictions = logits_model([features])\n",
    "    metrics_dict['train_accuracy'](tf.one_hot(labels,2),predictions)\n",
    "\n",
    "@tf.function\n",
    "def test_step(features, labels):\n",
    "    # sat\n",
    "    sat = axioms(features, labels)\n",
    "    metrics_dict['test_sat_kb'](sat)\n",
    "    # accuracy\n",
    "    predictions = logits_model([features])\n",
    "    metrics_dict['test_accuracy'](tf.one_hot(labels,2),predictions)"
   ]
  },
  {
   "cell_type": "markdown",
   "metadata": {
    "id": "8bXHYdiZBEGV"
   },
   "source": [
    "Train"
   ]
  },
  {
   "cell_type": "code",
   "execution_count": 27,
   "metadata": {
    "colab": {
     "base_uri": "https://localhost:8080/"
    },
    "executionInfo": {
     "elapsed": 806564,
     "status": "ok",
     "timestamp": 1724654513834,
     "user": {
      "displayName": "Delower Hossain",
      "userId": "01553421328143772667"
     },
     "user_tz": 300
    },
    "id": "XvNiUiArBEGV",
    "outputId": "35a5ea75-68c1-4cd3-c3fb-44a006603822"
   },
   "outputs": [
    {
     "name": "stdout",
     "output_type": "stream",
     "text": [
      "Epoch 0, train_sat_kb: 0.4808, test_sat_kb: 0.5472, train_accuracy: 0.5839, test_accuracy: 0.6780\n",
      "Epoch 20, train_sat_kb: 0.6023, test_sat_kb: 0.5997, train_accuracy: 0.8037, test_accuracy: 0.7740\n",
      "Epoch 40, train_sat_kb: 0.6534, test_sat_kb: 0.6426, train_accuracy: 0.8613, test_accuracy: 0.8280\n",
      "Epoch 60, train_sat_kb: 0.6796, test_sat_kb: 0.6518, train_accuracy: 0.8872, test_accuracy: 0.8380\n",
      "Epoch 80, train_sat_kb: 0.6978, test_sat_kb: 0.6929, train_accuracy: 0.9013, test_accuracy: 0.8750\n",
      "Epoch 100, train_sat_kb: 0.7132, test_sat_kb: 0.7136, train_accuracy: 0.9122, test_accuracy: 0.8890\n",
      "Epoch 120, train_sat_kb: 0.7233, test_sat_kb: 0.7197, train_accuracy: 0.9183, test_accuracy: 0.8940\n",
      "Epoch 140, train_sat_kb: 0.7308, test_sat_kb: 0.7287, train_accuracy: 0.9248, test_accuracy: 0.8940\n",
      "Epoch 160, train_sat_kb: 0.7419, test_sat_kb: 0.7357, train_accuracy: 0.9329, test_accuracy: 0.9080\n",
      "Epoch 180, train_sat_kb: 0.7477, test_sat_kb: 0.7342, train_accuracy: 0.9334, test_accuracy: 0.9020\n",
      "Epoch 200, train_sat_kb: 0.7529, test_sat_kb: 0.7255, train_accuracy: 0.9372, test_accuracy: 0.9040\n",
      "Epoch 220, train_sat_kb: 0.7569, test_sat_kb: 0.7538, train_accuracy: 0.9413, test_accuracy: 0.9170\n",
      "Epoch 240, train_sat_kb: 0.7603, test_sat_kb: 0.7174, train_accuracy: 0.9430, test_accuracy: 0.8960\n",
      "Epoch 260, train_sat_kb: 0.7662, test_sat_kb: 0.7595, train_accuracy: 0.9464, test_accuracy: 0.9270\n",
      "Epoch 280, train_sat_kb: 0.7663, test_sat_kb: 0.7378, train_accuracy: 0.9452, test_accuracy: 0.9100\n",
      "Epoch 300, train_sat_kb: 0.7692, test_sat_kb: 0.7521, train_accuracy: 0.9479, test_accuracy: 0.9220\n",
      "Epoch 320, train_sat_kb: 0.7746, test_sat_kb: 0.7226, train_accuracy: 0.9492, test_accuracy: 0.9050\n",
      "Epoch 340, train_sat_kb: 0.7754, test_sat_kb: 0.7601, train_accuracy: 0.9490, test_accuracy: 0.9270\n",
      "Epoch 360, train_sat_kb: 0.7764, test_sat_kb: 0.7500, train_accuracy: 0.9518, test_accuracy: 0.9200\n",
      "Epoch 380, train_sat_kb: 0.7806, test_sat_kb: 0.7424, train_accuracy: 0.9541, test_accuracy: 0.9140\n",
      "Epoch 400, train_sat_kb: 0.7803, test_sat_kb: 0.7554, train_accuracy: 0.9528, test_accuracy: 0.9240\n",
      "Epoch 420, train_sat_kb: 0.7812, test_sat_kb: 0.7738, train_accuracy: 0.9536, test_accuracy: 0.9380\n",
      "Epoch 440, train_sat_kb: 0.7809, test_sat_kb: 0.7723, train_accuracy: 0.9544, test_accuracy: 0.9330\n",
      "Epoch 460, train_sat_kb: 0.7851, test_sat_kb: 0.7911, train_accuracy: 0.9560, test_accuracy: 0.9420\n",
      "Epoch 480, train_sat_kb: 0.7849, test_sat_kb: 0.7824, train_accuracy: 0.9545, test_accuracy: 0.9380\n"
     ]
    }
   ],
   "source": [
    "import commons\n",
    "\n",
    "EPOCHS = 500\n",
    "\n",
    "commons.train(\n",
    "    EPOCHS,\n",
    "    metrics_dict,\n",
    "    ds_train,\n",
    "    ds_test,\n",
    "    train_step,\n",
    "    test_step,\n",
    "    csv_path=\"herg_cdk_results.csv\",\n",
    "    track_metrics=20\n",
    ")"
   ]
  },
  {
   "cell_type": "code",
   "execution_count": 28,
   "metadata": {
    "colab": {
     "base_uri": "https://localhost:8080/"
    },
    "executionInfo": {
     "elapsed": 288,
     "status": "ok",
     "timestamp": 1724654514115,
     "user": {
      "displayName": "Delower Hossain",
      "userId": "01553421328143772667"
     },
     "user_tz": 300
    },
    "id": "5rRMUHSniiY3",
    "outputId": "a9a0146f-d498-4ca1-ffe3-c727f2140c53"
   },
   "outputs": [
    {
     "name": "stdout",
     "output_type": "stream",
     "text": [
      "hERG-Karim-CDK.keras  hERG-Karim-Morgan_CDK.keras  hERG-UniChemDB-Morgan.keras\n",
      "hERG-Karim-MMB.keras  hERG-Karim-Morgan.keras\n"
     ]
    }
   ],
   "source": [
    "!ls \"{dataset_path}/../Model-Weights\""
   ]
  },
  {
   "cell_type": "code",
   "execution_count": 29,
   "metadata": {
    "executionInfo": {
     "elapsed": 247,
     "status": "ok",
     "timestamp": 1724654514357,
     "user": {
      "displayName": "Delower Hossain",
      "userId": "01553421328143772667"
     },
     "user_tz": 300
    },
    "id": "e_IWO-ZHBEGV"
   },
   "outputs": [],
   "source": [
    "logits_model.save(f\"{dataset_path}/../Model-Weights/hERG-UniChemDB-CDK.keras\")"
   ]
  },
  {
   "cell_type": "markdown",
   "metadata": {
    "id": "VDZAg_ojf-WU"
   },
   "source": [
    "## Model Evaluation"
   ]
  },
  {
   "cell_type": "code",
   "execution_count": 30,
   "metadata": {
    "executionInfo": {
     "elapsed": 1340,
     "status": "ok",
     "timestamp": 1724654515694,
     "user": {
      "displayName": "Delower Hossain",
      "userId": "01553421328143772667"
     },
     "user_tz": 300
    },
    "id": "XzyEed39HEaD"
   },
   "outputs": [],
   "source": [
    "from sklearn.metrics import (\n",
    "    accuracy_score as ays,\n",
    "    f1_score as fs,\n",
    "    precision_score as ps,\n",
    "    recall_score as rs,\n",
    "    matthews_corrcoef as mcc,\n",
    "    roc_auc_score as auc,\n",
    "    balanced_accuracy_score,\n",
    "    confusion_matrix.\n",
    ")"
   ]
  },
  {
   "cell_type": "code",
   "execution_count": 35,
   "metadata": {
    "executionInfo": {
     "elapsed": 271,
     "status": "ok",
     "timestamp": 1724657251643,
     "user": {
      "displayName": "Delower Hossain",
      "userId": "01553421328143772667"
     },
     "user_tz": 300
    },
    "id": "Gew6Pv8cLU7c"
   },
   "outputs": [],
   "source": [
    "def print_score(xtest,ytest,name):\n",
    "\n",
    "    pred_test = logits_model.predict([xtest]).argmax(-1)\n",
    "\n",
    "    auc_test = auc(ytest, pred_test)\n",
    "\n",
    "\n",
    "    tn, fp, fn, tp = confusion_matrix(ytest, pred_test).ravel()\n",
    "\n",
    "    specificity_test = tn / (tn + fp)\n",
    "\n",
    "    sensitivity_test = tp / (tp + fn)\n",
    "\n",
    "    NPV_test = tn / (tn + fn)\n",
    "\n",
    "    PPV_test = tp / (tp + fp)\n",
    "    Accuracy_test = ays(ytest, pred_test)\n",
    "    Balanced_Accuracy_test = balanced_accuracy_score(ytest, pred_test)\n",
    "\n",
    "    MCC_test= mcc(ytest, pred_test)\n",
    "\n",
    "    CCR = (sensitivity_test+specificity_test)/2\n",
    "\n",
    "    f1_score = fs(ytest, pred_test)\n",
    "    print(f\"MCC_test_{name}: \" + str(MCC_test))\n",
    "    print(f\"NPV_test_{name}g: \" + str(NPV_test))\n",
    "    print(f\"Accuracy_test_{name}: \" + str(Accuracy_test))\n",
    "    print(f\"PPV_test_{name}: \" + str(PPV_test))\n",
    "    print(f\"specificity_test_{name}: \" + str(specificity_test))\n",
    "    print(f\"sensitivity_test_{name}: \" + str(sensitivity_test))\n",
    "    print(f\"Balanced_Accuracy_test{name}: \" + str(Balanced_Accuracy_test))\n",
    "\n",
    "    print(f\"Balanced_Accuracy_test{name}: \" + str(Balanced_Accuracy_test))\n",
    "    print(f\"Correct Classification Rate (CCR){name}: \" + str(CCR))\n",
    "    print(f\"F1 Score{name}: \" + str(f1_score))\n",
    "\n"
   ]
  },
  {
   "cell_type": "code",
   "execution_count": 36,
   "metadata": {
    "colab": {
     "base_uri": "https://localhost:8080/"
    },
    "executionInfo": {
     "elapsed": 498,
     "status": "ok",
     "timestamp": 1724657253828,
     "user": {
      "displayName": "Delower Hossain",
      "userId": "01553421328143772667"
     },
     "user_tz": 300
    },
    "id": "I9GV1ZeLgHRm",
    "outputId": "4084af3c-9117-4fa2-b66c-41caaac77716"
   },
   "outputs": [
    {
     "name": "stdout",
     "output_type": "stream",
     "text": [
      "2/2 [==============================] - 0s 9ms/step\n",
      "MCC_test_External Data Test-1 (pos): 0.7217759492810224\n",
      "NPV_test_External Data Test-1 (pos)g: 0.7222222222222222\n",
      "Accuracy_test_External Data Test-1 (pos): 0.8636363636363636\n",
      "PPV_test_External Data Test-1 (pos): 0.9615384615384616\n",
      "specificity_test_External Data Test-1 (pos): 0.9285714285714286\n",
      "sensitivity_test_External Data Test-1 (pos): 0.8333333333333334\n",
      "Balanced_Accuracy_testExternal Data Test-1 (pos): 0.8809523809523809\n",
      "Balanced_Accuracy_testExternal Data Test-1 (pos): 0.8809523809523809\n",
      "Correct Classification Rate (CCR)External Data Test-1 (pos): 0.8809523809523809\n",
      "F1 ScoreExternal Data Test-1 (pos): 0.8928571428571429\n"
     ]
    }
   ],
   "source": [
    "print_score(ext_pos_df.drop(\"target\",axis = 1),ext_pos_df['target'],'External Data Test-1 (pos)')\n"
   ]
  },
  {
   "cell_type": "code",
   "execution_count": null,
   "metadata": {
    "colab": {
     "base_uri": "https://localhost:8080/"
    },
    "executionInfo": {
     "elapsed": 260,
     "status": "ok",
     "timestamp": 1724657256241,
     "user": {
      "displayName": "Delower Hossain",
      "userId": "01553421328143772667"
     },
     "user_tz": 300
    },
    "id": "rBFPYipjhobx",
    "outputId": "ab0bcd83-1faf-4ca5-8659-0784785316c9"
   },
   "outputs": [
    {
     "name": "stdout",
     "output_type": "stream",
     "text": [
      "8/8 [==============================] - 0s 3ms/step\n",
      "MCC_test_External hERG-60: 0.6304783133466723\n",
      "NPV_test_External hERG-60g: 0.7202380952380952\n",
      "Accuracy_test_External hERG-60: 0.796\n",
      "PPV_test_External hERG-60: 0.9512195121951219\n",
      "specificity_test_External hERG-60: 0.968\n",
      "sensitivity_test_External hERG-60: 0.624\n",
      "Balanced_Accuracy_testExternal hERG-60: 0.796\n",
      "Balanced_Accuracy_testExternal hERG-60: 0.796\n",
      "Correct Classification Rate (CCR)External hERG-60: 0.796\n",
      "F1 ScoreExternal hERG-60: 0.753623188405797\n"
     ]
    }
   ],
   "source": [
    "print_score(ext_h60_df.drop(\"target\",axis = 1),ext_h60_df['target'],'External hERG-60')"
   ]
  },
  {
   "cell_type": "code",
   "execution_count": null,
   "metadata": {
    "colab": {
     "base_uri": "https://localhost:8080/"
    },
    "executionInfo": {
     "elapsed": 603,
     "status": "ok",
     "timestamp": 1724657258354,
     "user": {
      "displayName": "Delower Hossain",
      "userId": "01553421328143772667"
     },
     "user_tz": 300
    },
    "id": "fGhH5t1UgBpg",
    "outputId": "61ed446d-bd81-4366-de64-8b8072a65340"
   },
   "outputs": [
    {
     "name": "stdout",
     "output_type": "stream",
     "text": [
      "15/15 [==============================] - 0s 2ms/step\n",
      "MCC_test_External hERG-70: 0.6080807584874468\n",
      "NPV_test_External hERG-70g: 0.7037037037037037\n",
      "Accuracy_test_External hERG-70: 0.7906976744186046\n",
      "PPV_test_External hERG-70: 0.9064039408866995\n",
      "specificity_test_External hERG-70: 0.9090909090909091\n",
      "sensitivity_test_External hERG-70: 0.696969696969697\n",
      "Balanced_Accuracy_testExternal hERG-70: 0.803030303030303\n",
      "Balanced_Accuracy_testExternal hERG-70: 0.803030303030303\n",
      "Correct Classification Rate (CCR)External hERG-70: 0.803030303030303\n",
      "F1 ScoreExternal hERG-70: 0.7880085653104926\n"
     ]
    }
   ],
   "source": [
    "print_score(ext_h70_df.drop(\"target\",axis = 1),ext_h70_df['target'],'External hERG-70')"
   ]
  },
  {
   "cell_type": "code",
   "execution_count": 38,
   "metadata": {
    "executionInfo": {
     "elapsed": 4,
     "status": "ok",
     "timestamp": 1724657258596,
     "user": {
      "displayName": "Delower Hossain",
      "userId": "01553421328143772667"
     },
     "user_tz": 300
    },
    "id": "ei2qDgSaX03S"
   },
   "outputs": [],
   "source": []
  }
 ],
 "metadata": {
  "colab": {
   "provenance": []
  },
  "interpreter": {
   "hash": "889985fd10eb245a43f2ae5f5aa0c555254f5b898fe16071f1c89d06fa8d76a2"
  },
  "kernelspec": {
   "display_name": "Python 3.9.6 64-bit ('tf-py39': conda)",
   "language": "python",
   "name": "python396jvsc74a57bd0889985fd10eb245a43f2ae5f5aa0c555254f5b898fe16071f1c89d06fa8d76a2"
  },
  "language_info": {
   "codemirror_mode": {
    "name": "ipython",
    "version": 3
   },
   "file_extension": ".py",
   "mimetype": "text/x-python",
   "name": "python",
   "nbconvert_exporter": "python",
   "pygments_lexer": "ipython3",
   "version": "3.9.6"
  }
 },
 "nbformat": 4,
 "nbformat_minor": 0
}
